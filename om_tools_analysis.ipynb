{
 "cells": [
  {
   "cell_type": "markdown",
   "metadata": {},
   "source": [
    "# Which online marketing tools are used most?\n",
    "While working on a project and deciding which tool to use for analytics, following customers, etc. I noticed the vast amounts of different tools some companies use on their website. I figured, why not find out which tools are used most. I'll start out saying that my approach is not perfect, but it works very well to get an overview. Bear with me as we move on to figure out the question to our answer. Let's start with our basic setup."
   ]
  },
  {
   "cell_type": "code",
   "execution_count": 1,
   "metadata": {
    "collapsed": true
   },
   "outputs": [],
   "source": [
    "%matplotlib inline\n",
    "from bs4 import BeautifulSoup\n",
    "from selenium import webdriver\n",
    "import requests\n",
    "import re\n",
    "import csv\n",
    "import pandas as pd\n",
    "import numpy as np\n",
    "import matplotlib\n",
    "matplotlib.style.use('ggplot')\n",
    "\n",
    "#variables\n",
    "lxa_n = 20 #number of Alexa pages to scrape (25 sites per page)"
   ]
  },
  {
   "cell_type": "markdown",
   "metadata": {},
   "source": [
    "Next up are some basic functions to get the job done. I'll give you a quick overview of my approach in gathering the data. The first question is what companies do we want in our data set? I've decided to go for the top 500 of dutch websites as index by Alexa. Now, I didn't really want to get the generic websites, but rather the specific 'Dutch' approach to online marketing. As a crude measure I decided to just use the sites with domain names ending in .nl.\n",
    "\n",
    "Most of these site use javascripts to trigger their online marketing tools. However, some of these scripts are loaded asynchronously, so it's not enough to just make a request, we have to render the javascript as well. The best way in this case was using Selenium to automate that process."
   ]
  },
  {
   "cell_type": "code",
   "execution_count": 13,
   "metadata": {
    "collapsed": false
   },
   "outputs": [],
   "source": [
    "def get_top_sites():\n",
    "    top_links = []\n",
    "    for i in range(lxa_n):\n",
    "        lxa_url = \"http://www.alexa.com/topsites/countries;%s/NL\" % str(i)\n",
    "        lxa = make_request(lxa_url).content\n",
    "        soup = BeautifulSoup(lxa, \"lxml\")\n",
    "        for link in soup.find_all('p', {'class' : 'desc-paragraph'}):\n",
    "            if \".nl\" in link.text:                          # only use dutch sites\n",
    "                top_links.append(link.text)\n",
    "    \n",
    "    return top_links\n",
    "\n",
    "def make_request(url):\n",
    "    headers = {'User-Agent' : 'Mozilla/5.0 Chrome/51.0.2704.106 Safari/537.36)'}\n",
    "    req = requests.get(url, headers=headers) \n",
    "    return req\n",
    "\n",
    "\n",
    "def make_request_async(url):\n",
    "    browser = webdriver.Firefox()\n",
    "    browser.get(url)\n",
    "    source = browser.page_source\n",
    "    browser.quit()\n",
    "    return source\n",
    "\n",
    "def extract(html):\n",
    "    soup = BeautifulSoup(html, \"lxml\")\n",
    "    return [script.get('src') for script in soup.find_all('script')]\n",
    "\n",
    "def extract_link(html):\n",
    "    soup = BeautifulSoup(html, \"lxml\")\n",
    "    for link in soup.find_all('p'):\n",
    "        print link.text\n",
    "\n",
    "def get_used_scripts(site_list):\n",
    "    used_scripts = {}\n",
    "    for site in site_list:\n",
    "        url = \"http://www.%s\" % site\n",
    "        site_scripts = extract(make_request_async(url))\n",
    "        used_scripts[site.strip()] = site_scripts\n",
    "    \n",
    "    return used_scripts\n",
    "\n",
    "def dict_to_csv(data, name):\n",
    "    with open(name, 'w') as f:\n",
    "        w_csv = csv.writer(f)\n",
    "        for k,v in data.items():\n",
    "            w_csv.writerow([k.strip(), \",\".join([str(x) for x in v])])"
   ]
  },
  {
   "cell_type": "code",
   "execution_count": 3,
   "metadata": {
    "collapsed": false
   },
   "outputs": [],
   "source": [
    "#common tools\n",
    "tools = [\"google-analytics\", \"piwik\", \"optimizely\", \"r42\", \"hotjar\", \"visualwebsiteoptimizer\", \n",
    "      \"usabilla\", \"adobedtm\", \"scorecardresearch\", \"nr-data\", \"crazyegg\", \"chartbeat\", \"krxd\", \"kiss\"]\n",
    "frameworks = [\"jquery\", \"angular\", \"bootstrap\", \"node\", \"underscore\", \"backbone\"]"
   ]
  },
  {
   "cell_type": "markdown",
   "metadata": {},
   "source": [
    "We use [Alexa's top 1 million](https://support.alexa.com/hc/en-us/articles/200449834-Does-Alexa-have-a-list-of-its-top-ranked-websites-) list of websites to get 7575 .nl websites."
   ]
  },
  {
   "cell_type": "code",
   "execution_count": 249,
   "metadata": {
    "collapsed": false
   },
   "outputs": [],
   "source": [
    "alexa_1_million = pd.read_csv('top-1m.csv', names=[\"site\"])\n",
    "alexa_1m_nl = alexa_1_million[alexa_1_million['site'].str.contains(\"\\.nl\")]"
   ]
  },
  {
   "cell_type": "code",
   "execution_count": 11,
   "metadata": {
    "collapsed": false
   },
   "outputs": [
    {
     "data": {
      "text/html": [
       "<div>\n",
       "<table border=\"1\" class=\"dataframe\">\n",
       "  <thead>\n",
       "    <tr style=\"text-align: right;\">\n",
       "      <th></th>\n",
       "      <th>site</th>\n",
       "      <th>scripts</th>\n",
       "    </tr>\n",
       "  </thead>\n",
       "  <tbody>\n",
       "    <tr>\n",
       "      <th>0</th>\n",
       "      <td>Rechtspraak.nl</td>\n",
       "      <td>/_layouts/15/init.js?rev=0%2BjgcYFw8Xoj0N42kzP...</td>\n",
       "    </tr>\n",
       "    <tr>\n",
       "      <th>1</th>\n",
       "      <td>Vergelijk.nl</td>\n",
       "      <td>//connect.facebook.net/nl_NL/sdk.js,//www.goog...</td>\n",
       "    </tr>\n",
       "    <tr>\n",
       "      <th>2</th>\n",
       "      <td>Neckermann.nl</td>\n",
       "      <td>https://bam.nr-data.net/1/db89e40b45?a=1283469...</td>\n",
       "    </tr>\n",
       "    <tr>\n",
       "      <th>3</th>\n",
       "      <td>Exactonline.nl</td>\n",
       "      <td>http://www.google-analytics.com/ga.js,None</td>\n",
       "    </tr>\n",
       "    <tr>\n",
       "      <th>4</th>\n",
       "      <td>Nu.nl</td>\n",
       "      <td>None,None,None</td>\n",
       "    </tr>\n",
       "  </tbody>\n",
       "</table>\n",
       "</div>"
      ],
      "text/plain": [
       "             site                                            scripts\n",
       "0  Rechtspraak.nl  /_layouts/15/init.js?rev=0%2BjgcYFw8Xoj0N42kzP...\n",
       "1    Vergelijk.nl  //connect.facebook.net/nl_NL/sdk.js,//www.goog...\n",
       "2   Neckermann.nl  https://bam.nr-data.net/1/db89e40b45?a=1283469...\n",
       "3  Exactonline.nl         http://www.google-analytics.com/ga.js,None\n",
       "4           Nu.nl                                     None,None,None"
      ]
     },
     "execution_count": 11,
     "metadata": {},
     "output_type": "execute_result"
    }
   ],
   "source": [
    "#top_sites_used_scripts = get_used_scripts(alexa_1m_nl) "
   ]
  },
  {
   "cell_type": "code",
   "execution_count": 12,
   "metadata": {
    "collapsed": false
   },
   "outputs": [
    {
     "ename": "NameError",
     "evalue": "name 'i' is not defined",
     "output_type": "error",
     "traceback": [
      "\u001b[0;31m---------------------------------------------------------------------------\u001b[0m",
      "\u001b[0;31mNameError\u001b[0m                                 Traceback (most recent call last)",
      "\u001b[0;32m<ipython-input-12-707da0b5bd80>\u001b[0m in \u001b[0;36m<module>\u001b[0;34m()\u001b[0m\n\u001b[1;32m      8\u001b[0m                 \u001b[0;32mif\u001b[0m \u001b[0mtool\u001b[0m \u001b[0;32min\u001b[0m \u001b[0mitem\u001b[0m\u001b[0;34m:\u001b[0m\u001b[0;34m\u001b[0m\u001b[0m\n\u001b[1;32m      9\u001b[0m                     \u001b[0mtools_used\u001b[0m\u001b[0;34m[\u001b[0m\u001b[0mtool\u001b[0m\u001b[0;34m]\u001b[0m \u001b[0;34m=\u001b[0m \u001b[0;36m1\u001b[0m\u001b[0;34m\u001b[0m\u001b[0m\n\u001b[0;32m---> 10\u001b[0;31m                     \u001b[0msite\u001b[0m \u001b[0;34m=\u001b[0m \u001b[0mtop_sites_used_scripts\u001b[0m\u001b[0;34m[\u001b[0m\u001b[0;34m\"site\"\u001b[0m\u001b[0;34m]\u001b[0m\u001b[0;34m[\u001b[0m\u001b[0mi\u001b[0m\u001b[0;34m]\u001b[0m\u001b[0;34m\u001b[0m\u001b[0m\n\u001b[0m\u001b[1;32m     11\u001b[0m     \u001b[0mtop_sites_used_tools\u001b[0m\u001b[0;34m[\u001b[0m\u001b[0msite\u001b[0m\u001b[0;34m]\u001b[0m \u001b[0;34m=\u001b[0m \u001b[0mtools_used\u001b[0m\u001b[0;34m\u001b[0m\u001b[0m\n\u001b[1;32m     12\u001b[0m \u001b[0;34m\u001b[0m\u001b[0m\n",
      "\u001b[0;31mNameError\u001b[0m: name 'i' is not defined"
     ]
    }
   ],
   "source": [
    "top_sites_used_tools = {}\n",
    "\n",
    "for site in top_sites_used_scripts.head():\n",
    "    tools_used = {}\n",
    "    for tool in tools:\n",
    "        for item in top_sites_used_scripts[site]:\n",
    "            if item is not None:\n",
    "                if tool in item:\n",
    "                    tools_used[tool] = 1\n",
    "    top_sites_used_tools[site] = tools_used            \n",
    "    \n",
    "top_sites_used_tools"
   ]
  },
  {
   "cell_type": "code",
   "execution_count": 251,
   "metadata": {
    "collapsed": false
   },
   "outputs": [],
   "source": [
    "top_sites_used_frameworks = {}\n",
    "\n",
    "for site in top_sites_used_scripts:\n",
    "    f_used = {}\n",
    "    for f in frameworks:\n",
    "        for item in top_sites_used_scripts[site]:\n",
    "            if item is not None:\n",
    "                if f in item:\n",
    "                    f_used[f] = 1\n",
    "    top_sites_used_frameworks[site] = f_used  "
   ]
  },
  {
   "cell_type": "code",
   "execution_count": 252,
   "metadata": {
    "collapsed": false
   },
   "outputs": [],
   "source": [
    "dict_to_csv(top_sites_used_scripts, 'top_sites_used_scripts.csv')"
   ]
  },
  {
   "cell_type": "code",
   "execution_count": 253,
   "metadata": {
    "collapsed": false
   },
   "outputs": [],
   "source": [
    "df_frameworks = pd.DataFrame(data=top_sites_used_frameworks).transpose().fillna(0)\n",
    "df_frameworks.to_csv('online_marketing_frameworks.csv')"
   ]
  },
  {
   "cell_type": "code",
   "execution_count": 254,
   "metadata": {
    "collapsed": false
   },
   "outputs": [],
   "source": [
    "df_tools = pd.DataFrame(data=top_sites_used_tools).transpose().fillna(0)\n",
    "df_tools.to_csv('online_marketing_tools.csv')"
   ]
  },
  {
   "cell_type": "code",
   "execution_count": null,
   "metadata": {
    "collapsed": false
   },
   "outputs": [],
   "source": []
  },
  {
   "cell_type": "code",
   "execution_count": 255,
   "metadata": {
    "collapsed": false
   },
   "outputs": [
    {
     "data": {
      "image/png": "[encoded data removed]",
      "text/plain": [
       "<matplotlib.figure.Figure at 0x115229710>"
      ]
     },
     "metadata": {},
     "output_type": "display_data"
    }
   ],
   "source": [
    "fig, ax = plt.subplots(1,1, figsize=[12,5])\n",
    "ind = np.arange(len(df_tools.sum()))\n",
    "width=0.6\n",
    "ax.barh(ind, df_tools.sum(), width, align='center', color='lightgreen', edgecolor='None')\n",
    "ax.set(yticklabels=df_tools.sum().index)\n",
    "ax.set_yticks(ind)\n",
    "ax.set_title('Most used online marketing tools')\n",
    "plt.show()"
   ]
  },
  {
   "cell_type": "code",
   "execution_count": 256,
   "metadata": {
    "collapsed": false
   },
   "outputs": [
    {
     "data": {
      "image/png": "[encoded data removed]",
      "text/plain": [
       "<matplotlib.figure.Figure at 0x114f43110>"
      ]
     },
     "metadata": {},
     "output_type": "display_data"
    }
   ],
   "source": [
    "fig, ax = plt.subplots(1,1, figsize=[12,5])\n",
    "ind = np.arange(len(df_frameworks.sum()))\n",
    "width=0.6\n",
    "ax.barh(ind, df_frameworks.sum(), width, align='center', color='lightgreen', edgecolor='None')\n",
    "ax.set(yticklabels=df_frameworks.sum().index)\n",
    "ax.set_yticks(ind)\n",
    "ax.set_title('Most used online javascript frameworks/tools')\n",
    "plt.show()\n"
   ]
  },
  {
   "cell_type": "code",
   "execution_count": null,
   "metadata": {
    "collapsed": true
   },
   "outputs": [],
   "source": []
  }
 ],
 "metadata": {
  "kernelspec": {
   "display_name": "Python 2",
   "language": "python",
   "name": "python2"
  },
  "language_info": {
   "codemirror_mode": {
    "name": "ipython",
    "version": 2
   },
   "file_extension": ".py",
   "mimetype": "text/x-python",
   "name": "python",
   "nbconvert_exporter": "python",
   "pygments_lexer": "ipython2",
   "version": "2.7.12"
  }
 },
 "nbformat": 4,
 "nbformat_minor": 0
}
